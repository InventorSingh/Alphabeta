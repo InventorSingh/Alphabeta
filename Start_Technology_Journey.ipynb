{
  "cells": [
    {
      "cell_type": "markdown",
      "id": "06956be4",
      "metadata": {},
      "source": [
        "# Tree Guild Mapping Notebook\n",
        "\n",
        "This notebook helps map existing trees in village social spaces, visualize their locations, and identify the next trees or plants to add. You can:\n",
        "\n",
        "1. **Ingest** local data of tree locations, possibly collected by volunteers.\n",
        "2. **Visualize** those locations on a simple coordinate plot (or on a map using a library like [folium](https://python-visualization.github.io/folium/)).\n",
        "3. **Propose** suitable companion plants for building robust Tree Guilds."
      ]
    },
    {
      "cell_type": "code",
      "execution_count": 1,
      "id": "433026ea",
      "metadata": {},
      "outputs": [],
      "source": [
        "#!/usr/bin/env python\n",
        "# coding: utf-8\n",
        "import pandas as pd\n",
        "import numpy as np\n",
        "import matplotlib.pyplot as plt\n",
        "from IPython.display import display\n",
        "\n",
        "# If you'd like a more sophisticated map visualization, you can install and import folium:\n",
        "# !pip install folium\n",
        "# import folium\n",
        "\n",
        "%matplotlib inline"
      ]
    },
    {
      "cell_type": "markdown",
      "id": "4e4fb871",
      "metadata": {},
      "source": [
        "## 1. Ingest or Simulate Tree Location Data\n",
        "In a real scenario, you'd gather data from:\n",
        "- A volunteer survey (GPS coordinates or addresses)\n",
        "- Existing local government or community records\n",
        "- Simple lat/long data collected from smartphones\n",
        "\n",
        "Below, we simulate data for demonstration."
      ]
    },
    {
      "cell_type": "code",
      "execution_count": 2,
      "id": "832fa778",
      "metadata": {},
      "outputs": [
        {
          "data": {
            "text/html": [
              "<div>\n",
              "<style scoped>\n",
              "    .dataframe tbody tr th:only-of-type {\n",
              "        vertical-align: middle;\n",
              "    }\n",
              "\n",
              "    .dataframe tbody tr th {\n",
              "        vertical-align: top;\n",
              "    }\n",
              "\n",
              "    .dataframe thead th {\n",
              "        text-align: right;\n",
              "    }\n",
              "</style>\n",
              "<table border=\"1\" class=\"dataframe\">\n",
              "  <thead>\n",
              "    <tr style=\"text-align: right;\">\n",
              "      <th></th>\n",
              "      <th>Tree_ID</th>\n",
              "      <th>Species</th>\n",
              "      <th>Latitude</th>\n",
              "      <th>Longitude</th>\n",
              "    </tr>\n",
              "  </thead>\n",
              "  <tbody>\n",
              "    <tr>\n",
              "      <th>0</th>\n",
              "      <td>1</td>\n",
              "      <td>Neem</td>\n",
              "      <td>25.120891</td>\n",
              "      <td>75.125422</td>\n",
              "    </tr>\n",
              "    <tr>\n",
              "      <th>1</th>\n",
              "      <td>2</td>\n",
              "      <td>Peepal</td>\n",
              "      <td>25.132414</td>\n",
              "      <td>75.127561</td>\n",
              "    </tr>\n",
              "    <tr>\n",
              "      <th>2</th>\n",
              "      <td>3</td>\n",
              "      <td>Banyan</td>\n",
              "      <td>25.128040</td>\n",
              "      <td>75.113812</td>\n",
              "    </tr>\n",
              "    <tr>\n",
              "      <th>3</th>\n",
              "      <td>4</td>\n",
              "      <td>Mango</td>\n",
              "      <td>25.125373</td>\n",
              "      <td>75.132798</td>\n",
              "    </tr>\n",
              "    <tr>\n",
              "      <th>4</th>\n",
              "      <td>5</td>\n",
              "      <td>Neem</td>\n",
              "      <td>25.116520</td>\n",
              "      <td>75.130049</td>\n",
              "    </tr>\n",
              "    <tr>\n",
              "      <th>5</th>\n",
              "      <td>6</td>\n",
              "      <td>Lemon</td>\n",
              "      <td>25.116520</td>\n",
              "      <td>75.117647</td>\n",
              "    </tr>\n",
              "    <tr>\n",
              "      <th>6</th>\n",
              "      <td>7</td>\n",
              "      <td>Guava</td>\n",
              "      <td>25.114562</td>\n",
              "      <td>75.117036</td>\n",
              "    </tr>\n",
              "    <tr>\n",
              "      <th>7</th>\n",
              "      <td>8</td>\n",
              "      <td>Peepal</td>\n",
              "      <td>25.130724</td>\n",
              "      <td>75.117068</td>\n",
              "    </tr>\n",
              "  </tbody>\n",
              "</table>\n",
              "</div>"
            ],
            "text/plain": [
              "   Tree_ID Species   Latitude  Longitude\n",
              "0        1    Neem  25.120891  75.125422\n",
              "1        2  Peepal  25.132414  75.127561\n",
              "2        3  Banyan  25.128040  75.113812\n",
              "3        4   Mango  25.125373  75.132798\n",
              "4        5    Neem  25.116520  75.130049\n",
              "5        6   Lemon  25.116520  75.117647\n",
              "6        7   Guava  25.114562  75.117036\n",
              "7        8  Peepal  25.130724  75.117068"
            ]
          },
          "execution_count": 2,
          "metadata": {},
          "output_type": "execute_result"
        }
      ],
      "source": [
        "# Simulated dataset of existing trees in the village\n",
        "# We'll create random lat/long coordinates near a hypothetical location.\n",
        "\n",
        "num_trees = 8  # Suppose we've mapped 8 existing trees\n",
        "\n",
        "np.random.seed(42)\n",
        "\n",
        "# Let's choose a hypothetical central point (latitude, longitude)\n",
        "village_center_lat = 25.1234\n",
        "village_center_lng = 75.1234\n",
        "\n",
        "# We'll spread the trees within ~0.01 degrees lat/lng around this center\n",
        "random_lats = village_center_lat + np.random.uniform(-0.01, 0.01, size=num_trees)\n",
        "random_lngs = village_center_lng + np.random.uniform(-0.01, 0.01, size=num_trees)\n",
        "\n",
        "# Simulate known species for these trees\n",
        "species_list = [\n",
        "    \"Neem\", \"Peepal\", \"Banyan\", \"Mango\", \"Neem\", \"Lemon\", \"Guava\", \"Peepal\"\n",
        "]\n",
        "\n",
        "data = {\n",
        "    \"Tree_ID\": range(1, num_trees+1),\n",
        "    \"Species\": species_list,\n",
        "    \"Latitude\": random_lats,\n",
        "    \"Longitude\": random_lngs\n",
        "}\n",
        "\n",
        "df_trees = pd.DataFrame(data)\n",
        "df_trees"
      ]
    },
    {
      "cell_type": "markdown",
      "id": "1e43b00a",
      "metadata": {},
      "source": [
        "## 2. Visualize Existing Trees\n",
        "Here, we do a simple 2D scatter plot of latitude vs. longitude.\n",
        "\n",
        "For a more interactive map, you could use [folium](https://python-visualization.github.io/folium/) or another GIS tool."
      ]
    },
    {
      "cell_type": "code",
      "execution_count": 3,
      "id": "19ac3c2e",
      "metadata": {},
      "outputs": [
        {
          "data": {
            "image/png": "[encoded data removed]",
            "text/plain": [
              "<Figure size 600x600 with 1 Axes>"
            ]
          },
          "metadata": {},
          "output_type": "display_data"
        }
      ],
      "source": [
        "# Simple scatter plot of lat/long\n",
        "plt.figure(figsize=(6,6))\n",
        "plt.scatter(df_trees[\"Longitude\"], df_trees[\"Latitude\"], c='green', marker='o')\n",
        "\n",
        "for i, row in df_trees.iterrows():\n",
        "    plt.text(row[\"Longitude\"], row[\"Latitude\"], row[\"Species\"], fontsize=9, ha='left')\n",
        "\n",
        "plt.title(\"Existing Trees in Village Social Spaces\")\n",
        "plt.xlabel(\"Longitude\")\n",
        "plt.ylabel(\"Latitude\")\n",
        "plt.grid(True)\n",
        "plt.show()"
      ]
    },
    {
      "cell_type": "code",
      "execution_count": null,
      "id": "72548d8d",
      "metadata": {},
      "outputs": [],
      "source": [
        "import folium\n",
        "m = folium.Map(location=[village_center_lat, village_center_lng], zoom_start=14)\n",
        "for i, row in df_trees.iterrows():\n",
        "    folium.Marker(\n",
        "        location=[row['Latitude'], row['Longitude']],\n",
        "        popup=f\"{row['Species']} (ID: {row['Tree_ID']})\"\n",
        "    ).add_to(m)\n",
        "m\n"
      ]
    },
    {
      "cell_type": "markdown",
      "id": "71b594fd",
      "metadata": {},
      "source": [
        "## 3. Identify Companion Plants or Trees for Guilds\n",
        "\n",
        "We can define a simple set of companion planting guidelines. For example:\n",
        "- **Neem** companions: (e.g., Lemongrass, Basil, or fruit trees that benefit from pest control)\n",
        "- **Peepal** companions: (e.g., water-intensive smaller shrubs, flowers that attract pollinators)\n",
        "- **Banyan** companions: (often spaced well with other native fruit trees, e.g., Mango, Jamun)\n",
        "- **Mango** companions: (nitrogen-fixing plants, pollinator-attracting flowers)\n",
        "\n",
        "Below is a simple rule-based approach as a starting point. You can replace or expand with detailed ecological data."
      ]
    },
    {
      "cell_type": "code",
      "execution_count": null,
      "id": "48dc5e72",
      "metadata": {},
      "outputs": [],
      "source": [
        "# Example companion rules (very simplified, for demonstration).\n",
        "companion_dict = {\n",
        "    \"Neem\": [\"Lemongrass\", \"Tulsi (Holy Basil)\", \"Banana\", \"Papaya\"],\n",
        "    \"Peepal\": [\"Pollinator Flowers\", \"Hibiscus\", \"Native Herbs\"],\n",
        "    \"Banyan\": [\"Mango\", \"Jamun\", \"Tamarind\"],\n",
        "    \"Mango\": [\"Pigeon Pea\", \"Moringa\", \"Marigold\"],\n",
        "    \"Guava\": [\"Lemon\", \"Mint\", \"Ginger\", \"Marigold\"],\n",
        "    \"Lemon\": [\"Basil\", \"Rosemary\", \"Native Wildflowers\"],\n",
        "    # Add or modify as needed for other species...\n",
        "}\n",
        "\n",
        "def recommend_companions(species):\n",
        "    \"\"\"Return a list of recommended companion plants for a given species.\"\"\"\n",
        "    return companion_dict.get(species, [\"General Native Shrubs\", \"Pollinator-Friendly Herbs\"])\n",
        "\n",
        "# Let's make a new DataFrame that includes recommended companions.\n",
        "recommendations = []\n",
        "\n",
        "for i, row in df_trees.iterrows():\n",
        "    species = row[\"Species\"]\n",
        "    rec_plants = recommend_companions(species)\n",
        "    recommendations.append(\", \".join(rec_plants))\n",
        "\n",
        "df_trees[\"Recommended Companions\"] = recommendations\n",
        "df_trees"
      ]
    },
    {
      "cell_type": "markdown",
      "id": "983a6ec9",
      "metadata": {},
      "source": [
        "## 4. Output & Next Steps\n",
        "\n",
        "You can save the table of existing trees and recommendations as a CSV or Excel file for your local volunteers. This helps them know what to plant next to each existing tree to form a full Tree Guild."
      ]
    },
    {
      "cell_type": "code",
      "execution_count": null,
      "id": "f58db6ac",
      "metadata": {},
      "outputs": [],
      "source": [
        "# Export the table for reference\n",
        "df_trees.to_csv(\"tree_recommendations.csv\", index=False)\n",
        "print(\"Data saved to tree_recommendations.csv.\")"
      ]
    },
    {
      "cell_type": "markdown",
      "id": "3b0bfb50",
      "metadata": {},
      "source": [
        "### Summary\n",
        "\n",
        "1. **Map Existing Trees**: We collected or simulated lat/long data for each tree.\n",
        "2. **Visualize**: Used a simple scatter plot (or Folium) to see tree distribution.\n",
        "3. **Identify Companions**: Proposed a rule-based system to recommend plants for building a Tree Guild.\n",
        "\n",
        "#### Next Steps\n",
        "- **Incorporate real data**: Replace simulation with actual volunteer/GPS data.\n",
        "- **Expand recommendations**: Refine ecological relationships, pollinator-friendly plants, pest repellants.\n",
        "- **Track Growth**: Later, integrate camera or drone imagery, measure tree health indices over time.\n",
        "- **Community Involvement**: Provide local volunteers with the CSV or a simple app, so they know exactly what to plant."
      ]
    }
  ],
  "metadata": {
    "kernelspec": {
      "display_name": "ai",
      "language": "python",
      "name": "python3"
    },
    "language_info": {
      "codemirror_mode": {
        "name": "ipython",
        "version": 3
      },
      "file_extension": ".py",
      "mimetype": "text/x-python",
      "name": "python",
      "nbconvert_exporter": "python",
      "pygments_lexer": "ipython3",
      "version": "3.11.7"
    },
    "name": "Tree Guild Mapping"
  },
  "nbformat": 4,
  "nbformat_minor": 5
}
